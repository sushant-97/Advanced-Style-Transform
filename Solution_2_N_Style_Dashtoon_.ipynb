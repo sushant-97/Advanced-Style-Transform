{
  "nbformat": 4,
  "nbformat_minor": 0,
  "metadata": {
    "colab": {
      "provenance": [],
      "authorship_tag": "ABX9TyMkqczjizvEFK7jvsOCf0/L",
      "include_colab_link": true
    },
    "kernelspec": {
      "name": "python3",
      "display_name": "Python 3"
    },
    "language_info": {
      "name": "python"
    }
  },
  "cells": [
    {
      "cell_type": "markdown",
      "metadata": {
        "id": "view-in-github",
        "colab_type": "text"
      },
      "source": [
        "<a href=\"https://colab.research.google.com/github/sushant-97/Style-Transform/blob/main/Solution_2_N_Style_Dashtoon_.ipynb\" target=\"_parent\"><img src=\"https://colab.research.google.com/assets/colab-badge.svg\" alt=\"Open In Colab\"/></a>"
      ]
    },
    {
      "cell_type": "markdown",
      "source": [
        "## N Style Transform\n",
        "based on [A Learned Representation For Artistic Style](https://arxiv.org/abs/1610.07629)"
      ],
      "metadata": {
        "id": "YTPXn37zWVdx"
      }
    },
    {
      "cell_type": "code",
      "execution_count": null,
      "metadata": {
        "id": "v0oFDNN4WOwH"
      },
      "outputs": [],
      "source": [
        "# Extended the code from\n",
        "# Fast Neural Style Transform library by adding Conditional\n",
        "# https://github.com/pytorch/examples/tree/main/fast_neural_style\n"
      ]
    },
    {
      "cell_type": "code",
      "source": [],
      "metadata": {
        "id": "tjnOYuDaX_bF"
      },
      "execution_count": null,
      "outputs": []
    },
    {
      "cell_type": "code",
      "source": [],
      "metadata": {
        "id": "M176cssTX_Xm"
      },
      "execution_count": null,
      "outputs": []
    },
    {
      "cell_type": "markdown",
      "source": [
        "## Loss Function"
      ],
      "metadata": {
        "id": "hVwdfA9GYAjh"
      }
    },
    {
      "cell_type": "code",
      "source": [
        "\"\"\"Loss Function Code.\"\"\"\n",
        "# based on Pytorch official tutorial\n",
        "# https://pytorch.org/tutorials/advanced/neural_style_tutorial.html#:~:text=The%20style%20loss%20module%20is,_%7BXL%7D%20GXL.\n",
        "\n",
        "import torch\n",
        "from torch.nn.functional import mse_loss\n",
        "\n",
        "\n",
        "def calc_content_loss(features, targets, nodes):\n",
        "    \"\"\"Calculate Content Loss.\"\"\"\n",
        "    content_loss = 0\n",
        "    for node in nodes:\n",
        "        content_loss += mse_loss(features[node], targets[node])\n",
        "    return content_loss\n",
        "\n",
        "\n",
        "def gram(x):\n",
        "    \"\"\"Transfer a feature to gram matrix.\"\"\"\n",
        "    b, c, h, w = x.size()\n",
        "    f = x.flatten(2)\n",
        "    g = torch.bmm(f, f.transpose(1, 2))\n",
        "    return g.div(h*w)\n",
        "\n",
        "\n",
        "def calc_style_loss(features, targets, nodes):\n",
        "    \"\"\"Calcuate Gram Loss.\"\"\"\n",
        "    gram_loss = 0\n",
        "    for node in nodes:\n",
        "        gram_loss += mse_loss(gram(features[node]), gram(targets[node]))\n",
        "    return gram_loss\n",
        "\n",
        "\n",
        "def calc_tv_loss(x):\n",
        "    \"\"\"Calc Total Variation Loss.\"\"\"\n",
        "    tv_loss = torch.mean(torch.abs(x[:, :, :, :-1] - x[:, :, :, 1:]))\n",
        "    tv_loss += torch.mean(torch.abs(x[:, :, :-1, :] - x[:, :, 1:, :]))\n",
        "    return tv_loss\n"
      ],
      "metadata": {
        "id": "INQ25_zeYCSx"
      },
      "execution_count": null,
      "outputs": []
    }
  ]
}